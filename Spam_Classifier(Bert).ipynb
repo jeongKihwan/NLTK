{1
  "cells": [
    {
      "cell_type": "markdown",
      "metadata": {
        "id": "view-in-github",
        "colab_type": "text"
      },
      "source": [
        "<a href=\"https://colab.research.google.com/github/jeongKihwan/NLTK/blob/main/Spam_Classifier(Bert).ipynb\" target=\"_parent\"><img src=\"https://colab.research.google.com/assets/colab-badge.svg\" alt=\"Open In Colab\"/></a>"
      ]
    },
    {
      "cell_type": "code",
      "execution_count": 78,
      "metadata": {
        "id": "5rfpLV61tj5k"
      },
      "outputs": [],
      "source": [
        "import numpy as np\n",
        "import pandas as pd\n",
        "import os\n",
        "for dirname, _, filenames in os.walk('/kaggle/input'):\n",
        "    for filename in filenames:\n",
        "        print(os.path.join(dirname, filename))"
      ]
    },
    {
      "cell_type": "code",
      "execution_count": null,
      "metadata": {
        "id": "pgJlyIVM8U7T"
      },
      "outputs": [],
      "source": [
        "# tensorflow_text 호환\n",
        "\n",
        "!pip install tensorflow_text==2.15.0"
      ]
    },
    {
      "cell_type": "code",
      "execution_count": 80,
      "metadata": {
        "id": "vNeylG1vzvXf"
      },
      "outputs": [],
      "source": [
        "import tensorflow_hub as hub\n",
        "import tensorflow_text as text\n",
        "import tensorflow as tf"
      ]
    },
    {
      "cell_type": "code",
      "execution_count": 81,
      "metadata": {
        "id": "YvXQT3Xy5GR3"
      },
      "outputs": [],
      "source": [
        "df = pd.read_csv('/content/spam.csv', encoding = 'ISO-8859-1')"
      ]
    },
    {
      "cell_type": "code",
      "execution_count": 82,
      "metadata": {
        "id": "8ue8DOo_FWtb",
        "colab": {
          "base_uri": "https://localhost:8080/"
        },
        "outputId": "48e685cb-bde9-4172-ee62-9121259b8132"
      },
      "outputs": [
        {
          "output_type": "execute_result",
          "data": {
            "text/plain": [
              "Index(['v1', 'v2', 'Unnamed: 2', 'Unnamed: 3', 'Unnamed: 4'], dtype='object')"
            ]
          },
          "metadata": {},
          "execution_count": 82
        }
      ],
      "source": [
        "df.columns"
      ]
    },
    {
      "cell_type": "code",
      "execution_count": 83,
      "metadata": {
        "id": "Vvkhnk96FgQf"
      },
      "outputs": [],
      "source": [
        "# 컬럼 삭제, 컬럼명 변경\n",
        "df.drop(columns=['Unnamed: 2','Unnamed: 3','Unnamed: 4'],inplace=True)\n",
        "df.rename(columns={'v1':'Category', 'v2':'Message'},inplace=True)"
      ]
    },
    {
      "cell_type": "code",
      "execution_count": 84,
      "metadata": {
        "id": "C9Np8TBGGEch",
        "colab": {
          "base_uri": "https://localhost:8080/"
        },
        "outputId": "7ea501d9-d6f4-4323-863a-404d240afa85"
      },
      "outputs": [
        {
          "output_type": "stream",
          "name": "stdout",
          "text": [
            "<class 'pandas.core.frame.DataFrame'>\n",
            "RangeIndex: 5572 entries, 0 to 5571\n",
            "Data columns (total 2 columns):\n",
            " #   Column    Non-Null Count  Dtype \n",
            "---  ------    --------------  ----- \n",
            " 0   Category  5572 non-null   object\n",
            " 1   Message   5572 non-null   object\n",
            "dtypes: object(2)\n",
            "memory usage: 87.2+ KB\n"
          ]
        }
      ],
      "source": [
        "df.info()"
      ]
    },
    {
      "cell_type": "code",
      "execution_count": 85,
      "metadata": {
        "id": "UB7m9X2GGQ7F",
        "colab": {
          "base_uri": "https://localhost:8080/"
        },
        "outputId": "dc8dc9eb-d231-49b4-96d7-0bc30da49680"
      },
      "outputs": [
        {
          "output_type": "execute_result",
          "data": {
            "text/plain": [
              "(5572, 2)"
            ]
          },
          "metadata": {},
          "execution_count": 85
        }
      ],
      "source": [
        "df.shape"
      ]
    },
    {
      "cell_type": "code",
      "execution_count": 86,
      "metadata": {
        "id": "3xIinioiGR-6",
        "colab": {
          "base_uri": "https://localhost:8080/",
          "height": 175
        },
        "outputId": "21556e77-7b0e-408d-d65c-73ef1feadc95"
      },
      "outputs": [
        {
          "output_type": "execute_result",
          "data": {
            "text/plain": [
              "         Message                                                            \\\n",
              "           count unique                                                top   \n",
              "Category                                                                     \n",
              "ham         4825   4516                             Sorry, I'll call later   \n",
              "spam         747    653  Please call our customer service representativ...   \n",
              "\n",
              "               \n",
              "         freq  \n",
              "Category       \n",
              "ham        30  \n",
              "spam        4  "
            ],
            "text/html": [
              "\n",
              "  <div id=\"df-53dc3584-079b-4588-a8a8-3df8a7ed9ef0\" class=\"colab-df-container\">\n",
              "    <div>\n",
              "<style scoped>\n",
              "    .dataframe tbody tr th:only-of-type {\n",
              "        vertical-align: middle;\n",
              "    }\n",
              "\n",
              "    .dataframe tbody tr th {\n",
              "        vertical-align: top;\n",
              "    }\n",
              "\n",
              "    .dataframe thead tr th {\n",
              "        text-align: left;\n",
              "    }\n",
              "\n",
              "    .dataframe thead tr:last-of-type th {\n",
              "        text-align: right;\n",
              "    }\n",
              "</style>\n",
              "<table border=\"1\" class=\"dataframe\">\n",
              "  <thead>\n",
              "    <tr>\n",
              "      <th></th>\n",
              "      <th colspan=\"4\" halign=\"left\">Message</th>\n",
              "    </tr>\n",
              "    <tr>\n",
              "      <th></th>\n",
              "      <th>count</th>\n",
              "      <th>unique</th>\n",
              "      <th>top</th>\n",
              "      <th>freq</th>\n",
              "    </tr>\n",
              "    <tr>\n",
              "      <th>Category</th>\n",
              "      <th></th>\n",
              "      <th></th>\n",
              "      <th></th>\n",
              "      <th></th>\n",
              "    </tr>\n",
              "  </thead>\n",
              "  <tbody>\n",
              "    <tr>\n",
              "      <th>ham</th>\n",
              "      <td>4825</td>\n",
              "      <td>4516</td>\n",
              "      <td>Sorry, I'll call later</td>\n",
              "      <td>30</td>\n",
              "    </tr>\n",
              "    <tr>\n",
              "      <th>spam</th>\n",
              "      <td>747</td>\n",
              "      <td>653</td>\n",
              "      <td>Please call our customer service representativ...</td>\n",
              "      <td>4</td>\n",
              "    </tr>\n",
              "  </tbody>\n",
              "</table>\n",
              "</div>\n",
              "    <div class=\"colab-df-buttons\">\n",
              "\n",
              "  <div class=\"colab-df-container\">\n",
              "    <button class=\"colab-df-convert\" onclick=\"convertToInteractive('df-53dc3584-079b-4588-a8a8-3df8a7ed9ef0')\"\n",
              "            title=\"Convert this dataframe to an interactive table.\"\n",
              "            style=\"display:none;\">\n",
              "\n",
              "  <svg xmlns=\"http://www.w3.org/2000/svg\" height=\"24px\" viewBox=\"0 -960 960 960\">\n",
              "    <path d=\"M120-120v-720h720v720H120Zm60-500h600v-160H180v160Zm220 220h160v-160H400v160Zm0 220h160v-160H400v160ZM180-400h160v-160H180v160Zm440 0h160v-160H620v160ZM180-180h160v-160H180v160Zm440 0h160v-160H620v160Z\"/>\n",
              "  </svg>\n",
              "    </button>\n",
              "\n",
              "  <style>\n",
              "    .colab-df-container {\n",
              "      display:flex;\n",
              "      gap: 12px;\n",
              "    }\n",
              "\n",
              "    .colab-df-convert {\n",
              "      background-color: #E8F0FE;\n",
              "      border: none;\n",
              "      border-radius: 50%;\n",
              "      cursor: pointer;\n",
              "      display: none;\n",
              "      fill: #1967D2;\n",
              "      height: 32px;\n",
              "      padding: 0 0 0 0;\n",
              "      width: 32px;\n",
              "    }\n",
              "\n",
              "    .colab-df-convert:hover {\n",
              "      background-color: #E2EBFA;\n",
              "      box-shadow: 0px 1px 2px rgba(60, 64, 67, 0.3), 0px 1px 3px 1px rgba(60, 64, 67, 0.15);\n",
              "      fill: #174EA6;\n",
              "    }\n",
              "\n",
              "    .colab-df-buttons div {\n",
              "      margin-bottom: 4px;\n",
              "    }\n",
              "\n",
              "    [theme=dark] .colab-df-convert {\n",
              "      background-color: #3B4455;\n",
              "      fill: #D2E3FC;\n",
              "    }\n",
              "\n",
              "    [theme=dark] .colab-df-convert:hover {\n",
              "      background-color: #434B5C;\n",
              "      box-shadow: 0px 1px 3px 1px rgba(0, 0, 0, 0.15);\n",
              "      filter: drop-shadow(0px 1px 2px rgba(0, 0, 0, 0.3));\n",
              "      fill: #FFFFFF;\n",
              "    }\n",
              "  </style>\n",
              "\n",
              "    <script>\n",
              "      const buttonEl =\n",
              "        document.querySelector('#df-53dc3584-079b-4588-a8a8-3df8a7ed9ef0 button.colab-df-convert');\n",
              "      buttonEl.style.display =\n",
              "        google.colab.kernel.accessAllowed ? 'block' : 'none';\n",
              "\n",
              "      async function convertToInteractive(key) {\n",
              "        const element = document.querySelector('#df-53dc3584-079b-4588-a8a8-3df8a7ed9ef0');\n",
              "        const dataTable =\n",
              "          await google.colab.kernel.invokeFunction('convertToInteractive',\n",
              "                                                    [key], {});\n",
              "        if (!dataTable) return;\n",
              "\n",
              "        const docLinkHtml = 'Like what you see? Visit the ' +\n",
              "          '<a target=\"_blank\" href=https://colab.research.google.com/notebooks/data_table.ipynb>data table notebook</a>'\n",
              "          + ' to learn more about interactive tables.';\n",
              "        element.innerHTML = '';\n",
              "        dataTable['output_type'] = 'display_data';\n",
              "        await google.colab.output.renderOutput(dataTable, element);\n",
              "        const docLink = document.createElement('div');\n",
              "        docLink.innerHTML = docLinkHtml;\n",
              "        element.appendChild(docLink);\n",
              "      }\n",
              "    </script>\n",
              "  </div>\n",
              "\n",
              "\n",
              "<div id=\"df-89292695-6ebc-4272-8a17-4a1da48764a9\">\n",
              "  <button class=\"colab-df-quickchart\" onclick=\"quickchart('df-89292695-6ebc-4272-8a17-4a1da48764a9')\"\n",
              "            title=\"Suggest charts\"\n",
              "            style=\"display:none;\">\n",
              "\n",
              "<svg xmlns=\"http://www.w3.org/2000/svg\" height=\"24px\"viewBox=\"0 0 24 24\"\n",
              "     width=\"24px\">\n",
              "    <g>\n",
              "        <path d=\"M19 3H5c-1.1 0-2 .9-2 2v14c0 1.1.9 2 2 2h14c1.1 0 2-.9 2-2V5c0-1.1-.9-2-2-2zM9 17H7v-7h2v7zm4 0h-2V7h2v10zm4 0h-2v-4h2v4z\"/>\n",
              "    </g>\n",
              "</svg>\n",
              "  </button>\n",
              "\n",
              "<style>\n",
              "  .colab-df-quickchart {\n",
              "      --bg-color: #E8F0FE;\n",
              "      --fill-color: #1967D2;\n",
              "      --hover-bg-color: #E2EBFA;\n",
              "      --hover-fill-color: #174EA6;\n",
              "      --disabled-fill-color: #AAA;\n",
              "      --disabled-bg-color: #DDD;\n",
              "  }\n",
              "\n",
              "  [theme=dark] .colab-df-quickchart {\n",
              "      --bg-color: #3B4455;\n",
              "      --fill-color: #D2E3FC;\n",
              "      --hover-bg-color: #434B5C;\n",
              "      --hover-fill-color: #FFFFFF;\n",
              "      --disabled-bg-color: #3B4455;\n",
              "      --disabled-fill-color: #666;\n",
              "  }\n",
              "\n",
              "  .colab-df-quickchart {\n",
              "    background-color: var(--bg-color);\n",
              "    border: none;\n",
              "    border-radius: 50%;\n",
              "    cursor: pointer;\n",
              "    display: none;\n",
              "    fill: var(--fill-color);\n",
              "    height: 32px;\n",
              "    padding: 0;\n",
              "    width: 32px;\n",
              "  }\n",
              "\n",
              "  .colab-df-quickchart:hover {\n",
              "    background-color: var(--hover-bg-color);\n",
              "    box-shadow: 0 1px 2px rgba(60, 64, 67, 0.3), 0 1px 3px 1px rgba(60, 64, 67, 0.15);\n",
              "    fill: var(--button-hover-fill-color);\n",
              "  }\n",
              "\n",
              "  .colab-df-quickchart-complete:disabled,\n",
              "  .colab-df-quickchart-complete:disabled:hover {\n",
              "    background-color: var(--disabled-bg-color);\n",
              "    fill: var(--disabled-fill-color);\n",
              "    box-shadow: none;\n",
              "  }\n",
              "\n",
              "  .colab-df-spinner {\n",
              "    border: 2px solid var(--fill-color);\n",
              "    border-color: transparent;\n",
              "    border-bottom-color: var(--fill-color);\n",
              "    animation:\n",
              "      spin 1s steps(1) infinite;\n",
              "  }\n",
              "\n",
              "  @keyframes spin {\n",
              "    0% {\n",
              "      border-color: transparent;\n",
              "      border-bottom-color: var(--fill-color);\n",
              "      border-left-color: var(--fill-color);\n",
              "    }\n",
              "    20% {\n",
              "      border-color: transparent;\n",
              "      border-left-color: var(--fill-color);\n",
              "      border-top-color: var(--fill-color);\n",
              "    }\n",
              "    30% {\n",
              "      border-color: transparent;\n",
              "      border-left-color: var(--fill-color);\n",
              "      border-top-color: var(--fill-color);\n",
              "      border-right-color: var(--fill-color);\n",
              "    }\n",
              "    40% {\n",
              "      border-color: transparent;\n",
              "      border-right-color: var(--fill-color);\n",
              "      border-top-color: var(--fill-color);\n",
              "    }\n",
              "    60% {\n",
              "      border-color: transparent;\n",
              "      border-right-color: var(--fill-color);\n",
              "    }\n",
              "    80% {\n",
              "      border-color: transparent;\n",
              "      border-right-color: var(--fill-color);\n",
              "      border-bottom-color: var(--fill-color);\n",
              "    }\n",
              "    90% {\n",
              "      border-color: transparent;\n",
              "      border-bottom-color: var(--fill-color);\n",
              "    }\n",
              "  }\n",
              "</style>\n",
              "\n",
              "  <script>\n",
              "    async function quickchart(key) {\n",
              "      const quickchartButtonEl =\n",
              "        document.querySelector('#' + key + ' button');\n",
              "      quickchartButtonEl.disabled = true;  // To prevent multiple clicks.\n",
              "      quickchartButtonEl.classList.add('colab-df-spinner');\n",
              "      try {\n",
              "        const charts = await google.colab.kernel.invokeFunction(\n",
              "            'suggestCharts', [key], {});\n",
              "      } catch (error) {\n",
              "        console.error('Error during call to suggestCharts:', error);\n",
              "      }\n",
              "      quickchartButtonEl.classList.remove('colab-df-spinner');\n",
              "      quickchartButtonEl.classList.add('colab-df-quickchart-complete');\n",
              "    }\n",
              "    (() => {\n",
              "      let quickchartButtonEl =\n",
              "        document.querySelector('#df-89292695-6ebc-4272-8a17-4a1da48764a9 button');\n",
              "      quickchartButtonEl.style.display =\n",
              "        google.colab.kernel.accessAllowed ? 'block' : 'none';\n",
              "    })();\n",
              "  </script>\n",
              "</div>\n",
              "\n",
              "    </div>\n",
              "  </div>\n"
            ],
            "application/vnd.google.colaboratory.intrinsic+json": {
              "type": "dataframe",
              "summary": "{\n  \"name\": \"df\",\n  \"rows\": 2,\n  \"fields\": [\n    {\n      \"column\": [\n        \"Category\",\n        \"\"\n      ],\n      \"properties\": {\n        \"dtype\": \"string\",\n        \"num_unique_values\": 2,\n        \"samples\": [\n          \"spam\",\n          \"ham\"\n        ],\n        \"semantic_type\": \"\",\n        \"description\": \"\"\n      }\n    },\n    {\n      \"column\": [\n        \"Message\",\n        \"count\"\n      ],\n      \"properties\": {\n        \"dtype\": \"date\",\n        \"min\": \"747\",\n        \"max\": \"4825\",\n        \"num_unique_values\": 2,\n        \"samples\": [\n          \"747\",\n          \"4825\"\n        ],\n        \"semantic_type\": \"\",\n        \"description\": \"\"\n      }\n    },\n    {\n      \"column\": [\n        \"Message\",\n        \"unique\"\n      ],\n      \"properties\": {\n        \"dtype\": \"date\",\n        \"min\": 653,\n        \"max\": 4516,\n        \"num_unique_values\": 2,\n        \"samples\": [\n          653,\n          4516\n        ],\n        \"semantic_type\": \"\",\n        \"description\": \"\"\n      }\n    },\n    {\n      \"column\": [\n        \"Message\",\n        \"top\"\n      ],\n      \"properties\": {\n        \"dtype\": \"string\",\n        \"num_unique_values\": 2,\n        \"samples\": [\n          \"Please call our customer service representative on FREEPHONE 0808 145 4742 between 9am-11pm as you have WON a guaranteed \\u00e5\\u00a31000 cash or \\u00e5\\u00a35000 prize!\",\n          \"Sorry, I'll call later\"\n        ],\n        \"semantic_type\": \"\",\n        \"description\": \"\"\n      }\n    },\n    {\n      \"column\": [\n        \"Message\",\n        \"freq\"\n      ],\n      \"properties\": {\n        \"dtype\": \"date\",\n        \"min\": \"4\",\n        \"max\": \"30\",\n        \"num_unique_values\": 2,\n        \"samples\": [\n          \"4\",\n          \"30\"\n        ],\n        \"semantic_type\": \"\",\n        \"description\": \"\"\n      }\n    }\n  ]\n}"
            }
          },
          "metadata": {},
          "execution_count": 86
        }
      ],
      "source": [
        "df.groupby('Category').describe()"
      ]
    },
    {
      "cell_type": "code",
      "execution_count": 87,
      "metadata": {
        "id": "XCY7Lcw5GXiF",
        "colab": {
          "base_uri": "https://localhost:8080/"
        },
        "outputId": "2ffc4260-bf4c-494d-a4ea-ecc3d0353fbd"
      },
      "outputs": [
        {
          "output_type": "stream",
          "name": "stdout",
          "text": [
            "불균형 데이터: % 0.15481865284974095\n"
          ]
        }
      ],
      "source": [
        "print('불균형 데이터: %', 747/4825)"
      ]
    },
    {
      "cell_type": "code",
      "execution_count": 88,
      "metadata": {
        "id": "aHxkJmS5GgGw",
        "colab": {
          "base_uri": "https://localhost:8080/"
        },
        "outputId": "4db89d03-dccf-4e89-bce6-8a7137d77871"
      },
      "outputs": [
        {
          "output_type": "execute_result",
          "data": {
            "text/plain": [
              "(747, 2)"
            ]
          },
          "metadata": {},
          "execution_count": 88
        }
      ],
      "source": [
        "# 불균형 데이터 핸들링\n",
        "\n",
        "df_spam = df[df['Category']=='spam']\n",
        "df_spam.shape"
      ]
    },
    {
      "cell_type": "code",
      "execution_count": 89,
      "metadata": {
        "id": "fy-otr68HILH",
        "colab": {
          "base_uri": "https://localhost:8080/"
        },
        "outputId": "338bec23-a7f8-42ba-c51c-3dd5966a6818"
      },
      "outputs": [
        {
          "output_type": "execute_result",
          "data": {
            "text/plain": [
              "(4825, 2)"
            ]
          },
          "metadata": {},
          "execution_count": 89
        }
      ],
      "source": [
        "df_ham = df[df['Category']=='ham']\n",
        "df_ham.shape"
      ]
    },
    {
      "cell_type": "code",
      "execution_count": 90,
      "metadata": {
        "id": "bcOV_061HYFB",
        "colab": {
          "base_uri": "https://localhost:8080/"
        },
        "outputId": "82ff145b-5152-4fab-b4e1-40de1d2784d8"
      },
      "outputs": [
        {
          "output_type": "execute_result",
          "data": {
            "text/plain": [
              "(747, 2)"
            ]
          },
          "metadata": {},
          "execution_count": 90
        }
      ],
      "source": [
        "df_ham_downsampled = df_ham.sample(df_spam.shape[0])\n",
        "df_ham_downsampled.shape"
      ]
    },
    {
      "cell_type": "code",
      "execution_count": 91,
      "metadata": {
        "id": "AjSPRVYyHwvL",
        "colab": {
          "base_uri": "https://localhost:8080/"
        },
        "outputId": "16dc032c-83b9-4a51-cc17-b8059752e9c9"
      },
      "outputs": [
        {
          "output_type": "execute_result",
          "data": {
            "text/plain": [
              "747"
            ]
          },
          "metadata": {},
          "execution_count": 91
        }
      ],
      "source": [
        "df_spam.shape[0]"
      ]
    },
    {
      "cell_type": "code",
      "execution_count": 92,
      "metadata": {
        "id": "eT4tiMsLILKK",
        "colab": {
          "base_uri": "https://localhost:8080/"
        },
        "outputId": "74e323d9-fed9-488f-fd47-1a922409ee43"
      },
      "outputs": [
        {
          "output_type": "execute_result",
          "data": {
            "text/plain": [
              "(1494, 2)"
            ]
          },
          "metadata": {},
          "execution_count": 92
        }
      ],
      "source": [
        "df_balanced = pd.concat([df_ham_downsampled, df_spam])\n",
        "df_balanced.shape"
      ]
    },
    {
      "cell_type": "code",
      "execution_count": 93,
      "metadata": {
        "id": "fTwilkfLJR4K",
        "colab": {
          "base_uri": "https://localhost:8080/"
        },
        "outputId": "53dc689a-1d02-4157-fcc5-e8e80141298b"
      },
      "outputs": [
        {
          "output_type": "execute_result",
          "data": {
            "text/plain": [
              "ham     747\n",
              "spam    747\n",
              "Name: Category, dtype: int64"
            ]
          },
          "metadata": {},
          "execution_count": 93
        }
      ],
      "source": [
        "df_balanced['Category'].value_counts()"
      ]
    },
    {
      "cell_type": "code",
      "execution_count": 94,
      "metadata": {
        "id": "VaGXZKi3JYg4",
        "colab": {
          "base_uri": "https://localhost:8080/",
          "height": 206
        },
        "outputId": "21d51c0e-817b-475c-aa89-0e1b8bd03da1"
      },
      "outputs": [
        {
          "output_type": "execute_result",
          "data": {
            "text/plain": [
              "     Category                                            Message  spam\n",
              "1462     spam  09066362231 URGENT! Your mobile No 07xxxxxxxxx...     1\n",
              "2857      ham  In life when you face choices Just toss a coin...     0\n",
              "2874      ham  Idk. You keep saying that you're not, but sinc...     0\n",
              "2173      ham  Hiya, had a good day? Have you spoken to since...     0\n",
              "210       ham  What's up bruv, hope you had a great break. Do...     0"
            ],
            "text/html": [
              "\n",
              "  <div id=\"df-4ae23957-b13f-48bb-9aa0-48067ad6981d\" class=\"colab-df-container\">\n",
              "    <div>\n",
              "<style scoped>\n",
              "    .dataframe tbody tr th:only-of-type {\n",
              "        vertical-align: middle;\n",
              "    }\n",
              "\n",
              "    .dataframe tbody tr th {\n",
              "        vertical-align: top;\n",
              "    }\n",
              "\n",
              "    .dataframe thead th {\n",
              "        text-align: right;\n",
              "    }\n",
              "</style>\n",
              "<table border=\"1\" class=\"dataframe\">\n",
              "  <thead>\n",
              "    <tr style=\"text-align: right;\">\n",
              "      <th></th>\n",
              "      <th>Category</th>\n",
              "      <th>Message</th>\n",
              "      <th>spam</th>\n",
              "    </tr>\n",
              "  </thead>\n",
              "  <tbody>\n",
              "    <tr>\n",
              "      <th>1462</th>\n",
              "      <td>spam</td>\n",
              "      <td>09066362231 URGENT! Your mobile No 07xxxxxxxxx...</td>\n",
              "      <td>1</td>\n",
              "    </tr>\n",
              "    <tr>\n",
              "      <th>2857</th>\n",
              "      <td>ham</td>\n",
              "      <td>In life when you face choices Just toss a coin...</td>\n",
              "      <td>0</td>\n",
              "    </tr>\n",
              "    <tr>\n",
              "      <th>2874</th>\n",
              "      <td>ham</td>\n",
              "      <td>Idk. You keep saying that you're not, but sinc...</td>\n",
              "      <td>0</td>\n",
              "    </tr>\n",
              "    <tr>\n",
              "      <th>2173</th>\n",
              "      <td>ham</td>\n",
              "      <td>Hiya, had a good day? Have you spoken to since...</td>\n",
              "      <td>0</td>\n",
              "    </tr>\n",
              "    <tr>\n",
              "      <th>210</th>\n",
              "      <td>ham</td>\n",
              "      <td>What's up bruv, hope you had a great break. Do...</td>\n",
              "      <td>0</td>\n",
              "    </tr>\n",
              "  </tbody>\n",
              "</table>\n",
              "</div>\n",
              "    <div class=\"colab-df-buttons\">\n",
              "\n",
              "  <div class=\"colab-df-container\">\n",
              "    <button class=\"colab-df-convert\" onclick=\"convertToInteractive('df-4ae23957-b13f-48bb-9aa0-48067ad6981d')\"\n",
              "            title=\"Convert this dataframe to an interactive table.\"\n",
              "            style=\"display:none;\">\n",
              "\n",
              "  <svg xmlns=\"http://www.w3.org/2000/svg\" height=\"24px\" viewBox=\"0 -960 960 960\">\n",
              "    <path d=\"M120-120v-720h720v720H120Zm60-500h600v-160H180v160Zm220 220h160v-160H400v160Zm0 220h160v-160H400v160ZM180-400h160v-160H180v160Zm440 0h160v-160H620v160ZM180-180h160v-160H180v160Zm440 0h160v-160H620v160Z\"/>\n",
              "  </svg>\n",
              "    </button>\n",
              "\n",
              "  <style>\n",
              "    .colab-df-container {\n",
              "      display:flex;\n",
              "      gap: 12px;\n",
              "    }\n",
              "\n",
              "    .colab-df-convert {\n",
              "      background-color: #E8F0FE;\n",
              "      border: none;\n",
              "      border-radius: 50%;\n",
              "      cursor: pointer;\n",
              "      display: none;\n",
              "      fill: #1967D2;\n",
              "      height: 32px;\n",
              "      padding: 0 0 0 0;\n",
              "      width: 32px;\n",
              "    }\n",
              "\n",
              "    .colab-df-convert:hover {\n",
              "      background-color: #E2EBFA;\n",
              "      box-shadow: 0px 1px 2px rgba(60, 64, 67, 0.3), 0px 1px 3px 1px rgba(60, 64, 67, 0.15);\n",
              "      fill: #174EA6;\n",
              "    }\n",
              "\n",
              "    .colab-df-buttons div {\n",
              "      margin-bottom: 4px;\n",
              "    }\n",
              "\n",
              "    [theme=dark] .colab-df-convert {\n",
              "      background-color: #3B4455;\n",
              "      fill: #D2E3FC;\n",
              "    }\n",
              "\n",
              "    [theme=dark] .colab-df-convert:hover {\n",
              "      background-color: #434B5C;\n",
              "      box-shadow: 0px 1px 3px 1px rgba(0, 0, 0, 0.15);\n",
              "      filter: drop-shadow(0px 1px 2px rgba(0, 0, 0, 0.3));\n",
              "      fill: #FFFFFF;\n",
              "    }\n",
              "  </style>\n",
              "\n",
              "    <script>\n",
              "      const buttonEl =\n",
              "        document.querySelector('#df-4ae23957-b13f-48bb-9aa0-48067ad6981d button.colab-df-convert');\n",
              "      buttonEl.style.display =\n",
              "        google.colab.kernel.accessAllowed ? 'block' : 'none';\n",
              "\n",
              "      async function convertToInteractive(key) {\n",
              "        const element = document.querySelector('#df-4ae23957-b13f-48bb-9aa0-48067ad6981d');\n",
              "        const dataTable =\n",
              "          await google.colab.kernel.invokeFunction('convertToInteractive',\n",
              "                                                    [key], {});\n",
              "        if (!dataTable) return;\n",
              "\n",
              "        const docLinkHtml = 'Like what you see? Visit the ' +\n",
              "          '<a target=\"_blank\" href=https://colab.research.google.com/notebooks/data_table.ipynb>data table notebook</a>'\n",
              "          + ' to learn more about interactive tables.';\n",
              "        element.innerHTML = '';\n",
              "        dataTable['output_type'] = 'display_data';\n",
              "        await google.colab.output.renderOutput(dataTable, element);\n",
              "        const docLink = document.createElement('div');\n",
              "        docLink.innerHTML = docLinkHtml;\n",
              "        element.appendChild(docLink);\n",
              "      }\n",
              "    </script>\n",
              "  </div>\n",
              "\n",
              "\n",
              "<div id=\"df-cf91abbc-63d9-42bd-b41b-b8014f81d4a0\">\n",
              "  <button class=\"colab-df-quickchart\" onclick=\"quickchart('df-cf91abbc-63d9-42bd-b41b-b8014f81d4a0')\"\n",
              "            title=\"Suggest charts\"\n",
              "            style=\"display:none;\">\n",
              "\n",
              "<svg xmlns=\"http://www.w3.org/2000/svg\" height=\"24px\"viewBox=\"0 0 24 24\"\n",
              "     width=\"24px\">\n",
              "    <g>\n",
              "        <path d=\"M19 3H5c-1.1 0-2 .9-2 2v14c0 1.1.9 2 2 2h14c1.1 0 2-.9 2-2V5c0-1.1-.9-2-2-2zM9 17H7v-7h2v7zm4 0h-2V7h2v10zm4 0h-2v-4h2v4z\"/>\n",
              "    </g>\n",
              "</svg>\n",
              "  </button>\n",
              "\n",
              "<style>\n",
              "  .colab-df-quickchart {\n",
              "      --bg-color: #E8F0FE;\n",
              "      --fill-color: #1967D2;\n",
              "      --hover-bg-color: #E2EBFA;\n",
              "      --hover-fill-color: #174EA6;\n",
              "      --disabled-fill-color: #AAA;\n",
              "      --disabled-bg-color: #DDD;\n",
              "  }\n",
              "\n",
              "  [theme=dark] .colab-df-quickchart {\n",
              "      --bg-color: #3B4455;\n",
              "      --fill-color: #D2E3FC;\n",
              "      --hover-bg-color: #434B5C;\n",
              "      --hover-fill-color: #FFFFFF;\n",
              "      --disabled-bg-color: #3B4455;\n",
              "      --disabled-fill-color: #666;\n",
              "  }\n",
              "\n",
              "  .colab-df-quickchart {\n",
              "    background-color: var(--bg-color);\n",
              "    border: none;\n",
              "    border-radius: 50%;\n",
              "    cursor: pointer;\n",
              "    display: none;\n",
              "    fill: var(--fill-color);\n",
              "    height: 32px;\n",
              "    padding: 0;\n",
              "    width: 32px;\n",
              "  }\n",
              "\n",
              "  .colab-df-quickchart:hover {\n",
              "    background-color: var(--hover-bg-color);\n",
              "    box-shadow: 0 1px 2px rgba(60, 64, 67, 0.3), 0 1px 3px 1px rgba(60, 64, 67, 0.15);\n",
              "    fill: var(--button-hover-fill-color);\n",
              "  }\n",
              "\n",
              "  .colab-df-quickchart-complete:disabled,\n",
              "  .colab-df-quickchart-complete:disabled:hover {\n",
              "    background-color: var(--disabled-bg-color);\n",
              "    fill: var(--disabled-fill-color);\n",
              "    box-shadow: none;\n",
              "  }\n",
              "\n",
              "  .colab-df-spinner {\n",
              "    border: 2px solid var(--fill-color);\n",
              "    border-color: transparent;\n",
              "    border-bottom-color: var(--fill-color);\n",
              "    animation:\n",
              "      spin 1s steps(1) infinite;\n",
              "  }\n",
              "\n",
              "  @keyframes spin {\n",
              "    0% {\n",
              "      border-color: transparent;\n",
              "      border-bottom-color: var(--fill-color);\n",
              "      border-left-color: var(--fill-color);\n",
              "    }\n",
              "    20% {\n",
              "      border-color: transparent;\n",
              "      border-left-color: var(--fill-color);\n",
              "      border-top-color: var(--fill-color);\n",
              "    }\n",
              "    30% {\n",
              "      border-color: transparent;\n",
              "      border-left-color: var(--fill-color);\n",
              "      border-top-color: var(--fill-color);\n",
              "      border-right-color: var(--fill-color);\n",
              "    }\n",
              "    40% {\n",
              "      border-color: transparent;\n",
              "      border-right-color: var(--fill-color);\n",
              "      border-top-color: var(--fill-color);\n",
              "    }\n",
              "    60% {\n",
              "      border-color: transparent;\n",
              "      border-right-color: var(--fill-color);\n",
              "    }\n",
              "    80% {\n",
              "      border-color: transparent;\n",
              "      border-right-color: var(--fill-color);\n",
              "      border-bottom-color: var(--fill-color);\n",
              "    }\n",
              "    90% {\n",
              "      border-color: transparent;\n",
              "      border-bottom-color: var(--fill-color);\n",
              "    }\n",
              "  }\n",
              "</style>\n",
              "\n",
              "  <script>\n",
              "    async function quickchart(key) {\n",
              "      const quickchartButtonEl =\n",
              "        document.querySelector('#' + key + ' button');\n",
              "      quickchartButtonEl.disabled = true;  // To prevent multiple clicks.\n",
              "      quickchartButtonEl.classList.add('colab-df-spinner');\n",
              "      try {\n",
              "        const charts = await google.colab.kernel.invokeFunction(\n",
              "            'suggestCharts', [key], {});\n",
              "      } catch (error) {\n",
              "        console.error('Error during call to suggestCharts:', error);\n",
              "      }\n",
              "      quickchartButtonEl.classList.remove('colab-df-spinner');\n",
              "      quickchartButtonEl.classList.add('colab-df-quickchart-complete');\n",
              "    }\n",
              "    (() => {\n",
              "      let quickchartButtonEl =\n",
              "        document.querySelector('#df-cf91abbc-63d9-42bd-b41b-b8014f81d4a0 button');\n",
              "      quickchartButtonEl.style.display =\n",
              "        google.colab.kernel.accessAllowed ? 'block' : 'none';\n",
              "    })();\n",
              "  </script>\n",
              "</div>\n",
              "\n",
              "    </div>\n",
              "  </div>\n"
            ],
            "application/vnd.google.colaboratory.intrinsic+json": {
              "type": "dataframe",
              "summary": "{\n  \"name\": \"df_balanced\",\n  \"rows\": 5,\n  \"fields\": [\n    {\n      \"column\": \"Category\",\n      \"properties\": {\n        \"dtype\": \"category\",\n        \"num_unique_values\": 2,\n        \"samples\": [\n          \"ham\",\n          \"spam\"\n        ],\n        \"semantic_type\": \"\",\n        \"description\": \"\"\n      }\n    },\n    {\n      \"column\": \"Message\",\n      \"properties\": {\n        \"dtype\": \"string\",\n        \"num_unique_values\": 5,\n        \"samples\": [\n          \"In life when you face choices Just toss a coin not becoz its settle the question But while the coin in the air U will know what your heart is hoping for. Gudni8\",\n          \"What's up bruv, hope you had a great break. Do have a rewarding semester.\"\n        ],\n        \"semantic_type\": \"\",\n        \"description\": \"\"\n      }\n    },\n    {\n      \"column\": \"spam\",\n      \"properties\": {\n        \"dtype\": \"number\",\n        \"std\": 0,\n        \"min\": 0,\n        \"max\": 1,\n        \"num_unique_values\": 2,\n        \"samples\": [\n          0,\n          1\n        ],\n        \"semantic_type\": \"\",\n        \"description\": \"\"\n      }\n    }\n  ]\n}"
            }
          },
          "metadata": {},
          "execution_count": 94
        }
      ],
      "source": [
        "df_balanced['spam'] = df_balanced['Category'].apply(lambda x: 1 if x=='spam' else 0)\n",
        "df_balanced.sample(5)"
      ]
    },
    {
      "cell_type": "code",
      "execution_count": 95,
      "metadata": {
        "id": "PLpN0pnMJpak",
        "colab": {
          "base_uri": "https://localhost:8080/",
          "height": 206
        },
        "outputId": "a3923808-f841-45a8-b6c0-8b7b01f6ae8d"
      },
      "outputs": [
        {
          "output_type": "execute_result",
          "data": {
            "text/plain": [
              "  Category                                            Message  spam\n",
              "0      ham  Go until jurong point, crazy.. Available only ...     0\n",
              "1      ham                      Ok lar... Joking wif u oni...     0\n",
              "2     spam  Free entry in 2 a wkly comp to win FA Cup fina...     1\n",
              "3      ham  U dun say so early hor... U c already then say...     0\n",
              "4      ham  Nah I don't think he goes to usf, he lives aro...     0"
            ],
            "text/html": [
              "\n",
              "  <div id=\"df-7e2d4803-a25e-41b0-a99f-e8a83fcfee27\" class=\"colab-df-container\">\n",
              "    <div>\n",
              "<style scoped>\n",
              "    .dataframe tbody tr th:only-of-type {\n",
              "        vertical-align: middle;\n",
              "    }\n",
              "\n",
              "    .dataframe tbody tr th {\n",
              "        vertical-align: top;\n",
              "    }\n",
              "\n",
              "    .dataframe thead th {\n",
              "        text-align: right;\n",
              "    }\n",
              "</style>\n",
              "<table border=\"1\" class=\"dataframe\">\n",
              "  <thead>\n",
              "    <tr style=\"text-align: right;\">\n",
              "      <th></th>\n",
              "      <th>Category</th>\n",
              "      <th>Message</th>\n",
              "      <th>spam</th>\n",
              "    </tr>\n",
              "  </thead>\n",
              "  <tbody>\n",
              "    <tr>\n",
              "      <th>0</th>\n",
              "      <td>ham</td>\n",
              "      <td>Go until jurong point, crazy.. Available only ...</td>\n",
              "      <td>0</td>\n",
              "    </tr>\n",
              "    <tr>\n",
              "      <th>1</th>\n",
              "      <td>ham</td>\n",
              "      <td>Ok lar... Joking wif u oni...</td>\n",
              "      <td>0</td>\n",
              "    </tr>\n",
              "    <tr>\n",
              "      <th>2</th>\n",
              "      <td>spam</td>\n",
              "      <td>Free entry in 2 a wkly comp to win FA Cup fina...</td>\n",
              "      <td>1</td>\n",
              "    </tr>\n",
              "    <tr>\n",
              "      <th>3</th>\n",
              "      <td>ham</td>\n",
              "      <td>U dun say so early hor... U c already then say...</td>\n",
              "      <td>0</td>\n",
              "    </tr>\n",
              "    <tr>\n",
              "      <th>4</th>\n",
              "      <td>ham</td>\n",
              "      <td>Nah I don't think he goes to usf, he lives aro...</td>\n",
              "      <td>0</td>\n",
              "    </tr>\n",
              "  </tbody>\n",
              "</table>\n",
              "</div>\n",
              "    <div class=\"colab-df-buttons\">\n",
              "\n",
              "  <div class=\"colab-df-container\">\n",
              "    <button class=\"colab-df-convert\" onclick=\"convertToInteractive('df-7e2d4803-a25e-41b0-a99f-e8a83fcfee27')\"\n",
              "            title=\"Convert this dataframe to an interactive table.\"\n",
              "            style=\"display:none;\">\n",
              "\n",
              "  <svg xmlns=\"http://www.w3.org/2000/svg\" height=\"24px\" viewBox=\"0 -960 960 960\">\n",
              "    <path d=\"M120-120v-720h720v720H120Zm60-500h600v-160H180v160Zm220 220h160v-160H400v160Zm0 220h160v-160H400v160ZM180-400h160v-160H180v160Zm440 0h160v-160H620v160ZM180-180h160v-160H180v160Zm440 0h160v-160H620v160Z\"/>\n",
              "  </svg>\n",
              "    </button>\n",
              "\n",
              "  <style>\n",
              "    .colab-df-container {\n",
              "      display:flex;\n",
              "      gap: 12px;\n",
              "    }\n",
              "\n",
              "    .colab-df-convert {\n",
              "      background-color: #E8F0FE;\n",
              "      border: none;\n",
              "      border-radius: 50%;\n",
              "      cursor: pointer;\n",
              "      display: none;\n",
              "      fill: #1967D2;\n",
              "      height: 32px;\n",
              "      padding: 0 0 0 0;\n",
              "      width: 32px;\n",
              "    }\n",
              "\n",
              "    .colab-df-convert:hover {\n",
              "      background-color: #E2EBFA;\n",
              "      box-shadow: 0px 1px 2px rgba(60, 64, 67, 0.3), 0px 1px 3px 1px rgba(60, 64, 67, 0.15);\n",
              "      fill: #174EA6;\n",
              "    }\n",
              "\n",
              "    .colab-df-buttons div {\n",
              "      margin-bottom: 4px;\n",
              "    }\n",
              "\n",
              "    [theme=dark] .colab-df-convert {\n",
              "      background-color: #3B4455;\n",
              "      fill: #D2E3FC;\n",
              "    }\n",
              "\n",
              "    [theme=dark] .colab-df-convert:hover {\n",
              "      background-color: #434B5C;\n",
              "      box-shadow: 0px 1px 3px 1px rgba(0, 0, 0, 0.15);\n",
              "      filter: drop-shadow(0px 1px 2px rgba(0, 0, 0, 0.3));\n",
              "      fill: #FFFFFF;\n",
              "    }\n",
              "  </style>\n",
              "\n",
              "    <script>\n",
              "      const buttonEl =\n",
              "        document.querySelector('#df-7e2d4803-a25e-41b0-a99f-e8a83fcfee27 button.colab-df-convert');\n",
              "      buttonEl.style.display =\n",
              "        google.colab.kernel.accessAllowed ? 'block' : 'none';\n",
              "\n",
              "      async function convertToInteractive(key) {\n",
              "        const element = document.querySelector('#df-7e2d4803-a25e-41b0-a99f-e8a83fcfee27');\n",
              "        const dataTable =\n",
              "          await google.colab.kernel.invokeFunction('convertToInteractive',\n",
              "                                                    [key], {});\n",
              "        if (!dataTable) return;\n",
              "\n",
              "        const docLinkHtml = 'Like what you see? Visit the ' +\n",
              "          '<a target=\"_blank\" href=https://colab.research.google.com/notebooks/data_table.ipynb>data table notebook</a>'\n",
              "          + ' to learn more about interactive tables.';\n",
              "        element.innerHTML = '';\n",
              "        dataTable['output_type'] = 'display_data';\n",
              "        await google.colab.output.renderOutput(dataTable, element);\n",
              "        const docLink = document.createElement('div');\n",
              "        docLink.innerHTML = docLinkHtml;\n",
              "        element.appendChild(docLink);\n",
              "      }\n",
              "    </script>\n",
              "  </div>\n",
              "\n",
              "\n",
              "<div id=\"df-41724e0f-ab43-4326-addc-f18d019a6926\">\n",
              "  <button class=\"colab-df-quickchart\" onclick=\"quickchart('df-41724e0f-ab43-4326-addc-f18d019a6926')\"\n",
              "            title=\"Suggest charts\"\n",
              "            style=\"display:none;\">\n",
              "\n",
              "<svg xmlns=\"http://www.w3.org/2000/svg\" height=\"24px\"viewBox=\"0 0 24 24\"\n",
              "     width=\"24px\">\n",
              "    <g>\n",
              "        <path d=\"M19 3H5c-1.1 0-2 .9-2 2v14c0 1.1.9 2 2 2h14c1.1 0 2-.9 2-2V5c0-1.1-.9-2-2-2zM9 17H7v-7h2v7zm4 0h-2V7h2v10zm4 0h-2v-4h2v4z\"/>\n",
              "    </g>\n",
              "</svg>\n",
              "  </button>\n",
              "\n",
              "<style>\n",
              "  .colab-df-quickchart {\n",
              "      --bg-color: #E8F0FE;\n",
              "      --fill-color: #1967D2;\n",
              "      --hover-bg-color: #E2EBFA;\n",
              "      --hover-fill-color: #174EA6;\n",
              "      --disabled-fill-color: #AAA;\n",
              "      --disabled-bg-color: #DDD;\n",
              "  }\n",
              "\n",
              "  [theme=dark] .colab-df-quickchart {\n",
              "      --bg-color: #3B4455;\n",
              "      --fill-color: #D2E3FC;\n",
              "      --hover-bg-color: #434B5C;\n",
              "      --hover-fill-color: #FFFFFF;\n",
              "      --disabled-bg-color: #3B4455;\n",
              "      --disabled-fill-color: #666;\n",
              "  }\n",
              "\n",
              "  .colab-df-quickchart {\n",
              "    background-color: var(--bg-color);\n",
              "    border: none;\n",
              "    border-radius: 50%;\n",
              "    cursor: pointer;\n",
              "    display: none;\n",
              "    fill: var(--fill-color);\n",
              "    height: 32px;\n",
              "    padding: 0;\n",
              "    width: 32px;\n",
              "  }\n",
              "\n",
              "  .colab-df-quickchart:hover {\n",
              "    background-color: var(--hover-bg-color);\n",
              "    box-shadow: 0 1px 2px rgba(60, 64, 67, 0.3), 0 1px 3px 1px rgba(60, 64, 67, 0.15);\n",
              "    fill: var(--button-hover-fill-color);\n",
              "  }\n",
              "\n",
              "  .colab-df-quickchart-complete:disabled,\n",
              "  .colab-df-quickchart-complete:disabled:hover {\n",
              "    background-color: var(--disabled-bg-color);\n",
              "    fill: var(--disabled-fill-color);\n",
              "    box-shadow: none;\n",
              "  }\n",
              "\n",
              "  .colab-df-spinner {\n",
              "    border: 2px solid var(--fill-color);\n",
              "    border-color: transparent;\n",
              "    border-bottom-color: var(--fill-color);\n",
              "    animation:\n",
              "      spin 1s steps(1) infinite;\n",
              "  }\n",
              "\n",
              "  @keyframes spin {\n",
              "    0% {\n",
              "      border-color: transparent;\n",
              "      border-bottom-color: var(--fill-color);\n",
              "      border-left-color: var(--fill-color);\n",
              "    }\n",
              "    20% {\n",
              "      border-color: transparent;\n",
              "      border-left-color: var(--fill-color);\n",
              "      border-top-color: var(--fill-color);\n",
              "    }\n",
              "    30% {\n",
              "      border-color: transparent;\n",
              "      border-left-color: var(--fill-color);\n",
              "      border-top-color: var(--fill-color);\n",
              "      border-right-color: var(--fill-color);\n",
              "    }\n",
              "    40% {\n",
              "      border-color: transparent;\n",
              "      border-right-color: var(--fill-color);\n",
              "      border-top-color: var(--fill-color);\n",
              "    }\n",
              "    60% {\n",
              "      border-color: transparent;\n",
              "      border-right-color: var(--fill-color);\n",
              "    }\n",
              "    80% {\n",
              "      border-color: transparent;\n",
              "      border-right-color: var(--fill-color);\n",
              "      border-bottom-color: var(--fill-color);\n",
              "    }\n",
              "    90% {\n",
              "      border-color: transparent;\n",
              "      border-bottom-color: var(--fill-color);\n",
              "    }\n",
              "  }\n",
              "</style>\n",
              "\n",
              "  <script>\n",
              "    async function quickchart(key) {\n",
              "      const quickchartButtonEl =\n",
              "        document.querySelector('#' + key + ' button');\n",
              "      quickchartButtonEl.disabled = true;  // To prevent multiple clicks.\n",
              "      quickchartButtonEl.classList.add('colab-df-spinner');\n",
              "      try {\n",
              "        const charts = await google.colab.kernel.invokeFunction(\n",
              "            'suggestCharts', [key], {});\n",
              "      } catch (error) {\n",
              "        console.error('Error during call to suggestCharts:', error);\n",
              "      }\n",
              "      quickchartButtonEl.classList.remove('colab-df-spinner');\n",
              "      quickchartButtonEl.classList.add('colab-df-quickchart-complete');\n",
              "    }\n",
              "    (() => {\n",
              "      let quickchartButtonEl =\n",
              "        document.querySelector('#df-41724e0f-ab43-4326-addc-f18d019a6926 button');\n",
              "      quickchartButtonEl.style.display =\n",
              "        google.colab.kernel.accessAllowed ? 'block' : 'none';\n",
              "    })();\n",
              "  </script>\n",
              "</div>\n",
              "\n",
              "    </div>\n",
              "  </div>\n"
            ],
            "application/vnd.google.colaboratory.intrinsic+json": {
              "type": "dataframe",
              "variable_name": "df",
              "summary": "{\n  \"name\": \"df\",\n  \"rows\": 5572,\n  \"fields\": [\n    {\n      \"column\": \"Category\",\n      \"properties\": {\n        \"dtype\": \"category\",\n        \"num_unique_values\": 2,\n        \"samples\": [\n          \"spam\",\n          \"ham\"\n        ],\n        \"semantic_type\": \"\",\n        \"description\": \"\"\n      }\n    },\n    {\n      \"column\": \"Message\",\n      \"properties\": {\n        \"dtype\": \"string\",\n        \"num_unique_values\": 5169,\n        \"samples\": [\n          \"Did u download the fring app?\",\n          \"Pass dis to all ur contacts n see wat u get! Red;i'm in luv wid u. Blue;u put a smile on my face. Purple;u r realy hot. Pink;u r so swt. Orange;i thnk i lyk u. Green;i realy wana go out wid u. Yelow;i wnt u bck. Black;i'm jealous of u. Brown;i miss you Nw plz giv me one color\"\n        ],\n        \"semantic_type\": \"\",\n        \"description\": \"\"\n      }\n    },\n    {\n      \"column\": \"spam\",\n      \"properties\": {\n        \"dtype\": \"number\",\n        \"std\": 0,\n        \"min\": 0,\n        \"max\": 1,\n        \"num_unique_values\": 2,\n        \"samples\": [\n          1,\n          0\n        ],\n        \"semantic_type\": \"\",\n        \"description\": \"\"\n      }\n    }\n  ]\n}"
            }
          },
          "metadata": {},
          "execution_count": 95
        }
      ],
      "source": [
        "df['spam'] = df['Category'].apply(lambda x:1 if x=='spam' else 0)\n",
        "df.head()"
      ]
    },
    {
      "cell_type": "code",
      "execution_count": 96,
      "metadata": {
        "id": "22pn0TmSKJb4"
      },
      "outputs": [],
      "source": [
        "from sklearn.model_selection import train_test_split\n",
        "\n",
        "X_train, X_test, y_train, y_test = train_test_split(df_balanced['Message'], df_balanced['spam'], stratify = df_balanced['spam'])"
      ]
    },
    {
      "cell_type": "code",
      "execution_count": 97,
      "metadata": {
        "id": "CMp7BLqjLU_b",
        "colab": {
          "base_uri": "https://localhost:8080/"
        },
        "outputId": "ecff238f-8d08-4cbb-e7e3-a3c008f8f7b6"
      },
      "outputs": [
        {
          "output_type": "execute_result",
          "data": {
            "text/plain": [
              "2802                    FreeMsg>FAV XMAS TONES!Reply REAL\n",
              "634     Dear Voucher Holder, 2 claim this weeks offer,...\n",
              "1664                                       ÌÏ v ma fan...\n",
              "4771    Hi, Mobile no.  &lt;#&gt;  has added you in th...\n",
              "1465    YOU 07801543489 are guaranteed the latests Nok...\n",
              "Name: Message, dtype: object"
            ]
          },
          "metadata": {},
          "execution_count": 97
        }
      ],
      "source": [
        "X_train.head()"
      ]
    },
    {
      "cell_type": "code",
      "execution_count": 98,
      "metadata": {
        "id": "MS-5q9W7ORGl"
      },
      "outputs": [],
      "source": [
        "from tensorflow.keras import layers"
      ]
    },
    {
      "cell_type": "code",
      "execution_count": 99,
      "metadata": {
        "id": "kzhglyB9Lb7H"
      },
      "outputs": [],
      "source": [
        "# Bert Model\n",
        "# Bert_preprocess : 원시 텍스트를 인코더에서 예상하는 숫자입력 텐서로 변경.\n",
        "# Bert_encoder : 변환기 모델의 인코더 스택을 사용하여 주어진 입력의 각 토큰 표현을 출력.\n",
        "\n",
        "bert_preprocess = hub.KerasLayer('https://tfhub.dev/tensorflow/bert_en_uncased_preprocess/3')\n",
        "bert_encoder = hub.KerasLayer('https://tfhub.dev/tensorflow/bert_en_uncased_L-12_H-768_A-12/4')"
      ]
    },
    {
      "cell_type": "code",
      "execution_count": 100,
      "metadata": {
        "id": "F3ndfBNCO903"
      },
      "outputs": [],
      "source": [
        "def get_sentence_embeding(sentences):\n",
        "  preprocessed_text = bert_preprocess(sentences)\n",
        "  return bert_encoder(preprocessed_text)['pooled_output']"
      ]
    },
    {
      "cell_type": "code",
      "execution_count": 101,
      "metadata": {
        "id": "OTlctTL6M3FE"
      },
      "outputs": [],
      "source": [
        "c = get_sentence_embeding(['mango','banana','Narendra modi','data analytics','natural language processing'])"
      ]
    },
    {
      "cell_type": "code",
      "execution_count": 102,
      "metadata": {
        "id": "NZ-ViRHHMmI2",
        "colab": {
          "base_uri": "https://localhost:8080/"
        },
        "outputId": "bf6cad4c-9212-4f2e-f601-0790c63c4dbd"
      },
      "outputs": [
        {
          "output_type": "execute_result",
          "data": {
            "text/plain": [
              "array([[0.99540985]], dtype=float32)"
            ]
          },
          "metadata": {},
          "execution_count": 102
        }
      ],
      "source": [
        "from sklearn.metrics.pairwise import cosine_similarity\n",
        "cosine_similarity([c[0]],[c[1]])"
      ]
    },
    {
      "cell_type": "code",
      "execution_count": 103,
      "metadata": {
        "id": "DDy1ZbgNMfHg",
        "colab": {
          "base_uri": "https://localhost:8080/"
        },
        "outputId": "6a11909f-c194-406d-d992-eca11a88353c"
      },
      "outputs": [
        {
          "output_type": "execute_result",
          "data": {
            "text/plain": [
              "array([[0.96571255]], dtype=float32)"
            ]
          },
          "metadata": {},
          "execution_count": 103
        }
      ],
      "source": [
        "cosine_similarity([c[3]],[c[4]])"
      ]
    },
    {
      "cell_type": "code",
      "execution_count": 104,
      "metadata": {
        "id": "e-vtrZzLSNRp",
        "colab": {
          "base_uri": "https://localhost:8080/"
        },
        "outputId": "ebc06a0e-f69c-402b-915e-4a82d83d682a"
      },
      "outputs": [
        {
          "output_type": "execute_result",
          "data": {
            "text/plain": [
              "array([[0.9482185]], dtype=float32)"
            ]
          },
          "metadata": {},
          "execution_count": 104
        }
      ],
      "source": [
        "cosine_similarity([c[1]],[c[2]])"
      ]
    },
    {
      "cell_type": "code",
      "execution_count": 105,
      "metadata": {
        "id": "fA6d1oxsSSJU"
      },
      "outputs": [],
      "source": [
        "# Model Building\n",
        "\n",
        "text_input = tf.keras.layers.Input(shape=(), dtype=tf.string, name='text')\n",
        "preprocessed_text = bert_preprocess(text_input)\n",
        "outputs = bert_encoder(preprocessed_text)\n",
        "\n",
        "l = tf.keras.layers.Dropout(0.1, name='dropout')(outputs['pooled_output'])\n",
        "l = tf.keras.layers.Dense(1, activation='sigmoid',name='output')(l)\n",
        "\n",
        "model = tf.keras.Model(inputs=[text_input],outputs=[l])"
      ]
    },
    {
      "cell_type": "code",
      "execution_count": 106,
      "metadata": {
        "id": "RfTRG1QBlk9a",
        "colab": {
          "base_uri": "https://localhost:8080/"
        },
        "outputId": "b434252c-ce6c-48a3-a470-4af506204a6b"
      },
      "outputs": [
        {
          "output_type": "stream",
          "name": "stdout",
          "text": [
            "Model: \"model_2\"\n",
            "__________________________________________________________________________________________________\n",
            " Layer (type)                Output Shape                 Param #   Connected to                  \n",
            "==================================================================================================\n",
            " text (InputLayer)           [(None,)]                    0         []                            \n",
            "                                                                                                  \n",
            " keras_layer_4 (KerasLayer)  {'input_mask': (None, 128)   0         ['text[0][0]']                \n",
            "                             , 'input_type_ids': (None,                                           \n",
            "                              128),                                                               \n",
            "                              'input_word_ids': (None,                                            \n",
            "                             128)}                                                                \n",
            "                                                                                                  \n",
            " keras_layer_5 (KerasLayer)  {'default': (None, 768),     1094822   ['keras_layer_4[0][0]',       \n",
            "                              'pooled_output': (None, 7   41         'keras_layer_4[0][1]',       \n",
            "                             68),                                    'keras_layer_4[0][2]']       \n",
            "                              'encoder_outputs': [(None                                           \n",
            "                             , 128, 768),                                                         \n",
            "                              (None, 128, 768),                                                   \n",
            "                              (None, 128, 768),                                                   \n",
            "                              (None, 128, 768),                                                   \n",
            "                              (None, 128, 768),                                                   \n",
            "                              (None, 128, 768),                                                   \n",
            "                              (None, 128, 768),                                                   \n",
            "                              (None, 128, 768),                                                   \n",
            "                              (None, 128, 768),                                                   \n",
            "                              (None, 128, 768),                                                   \n",
            "                              (None, 128, 768),                                                   \n",
            "                              (None, 128, 768)],                                                  \n",
            "                              'sequence_output': (None,                                           \n",
            "                              128, 768)}                                                          \n",
            "                                                                                                  \n",
            " dropout (Dropout)           (None, 768)                  0         ['keras_layer_5[0][13]']      \n",
            "                                                                                                  \n",
            " output (Dense)              (None, 1)                    769       ['dropout[0][0]']             \n",
            "                                                                                                  \n",
            "==================================================================================================\n",
            "Total params: 109483010 (417.64 MB)\n",
            "Trainable params: 769 (3.00 KB)\n",
            "Non-trainable params: 109482241 (417.64 MB)\n",
            "__________________________________________________________________________________________________\n"
          ]
        }
      ],
      "source": [
        "model.summary()"
      ]
    },
    {
      "cell_type": "code",
      "execution_count": 107,
      "metadata": {
        "id": "_eL_cIxZn3_k",
        "colab": {
          "base_uri": "https://localhost:8080/"
        },
        "outputId": "15c32005-f17b-4e9a-e990-98ed6cbc59dc"
      },
      "outputs": [
        {
          "output_type": "execute_result",
          "data": {
            "text/plain": [
              "1120"
            ]
          },
          "metadata": {},
          "execution_count": 107
        }
      ],
      "source": [
        "len(X_train)"
      ]
    },
    {
      "cell_type": "code",
      "execution_count": 108,
      "metadata": {
        "id": "9ounxSMan-Le"
      },
      "outputs": [],
      "source": [
        "METRICS = [tf.keras.metrics.BinaryAccuracy(name='accuracy'),tf.keras.metrics.Precision(name='precision'), tf.keras.metrics.Recall(name='recall')]\n",
        "model.compile(optimizer='adam',loss='binary_crossentropy', metrics=METRICS)"
      ]
    },
    {
      "cell_type": "code",
      "execution_count": 109,
      "metadata": {
        "colab": {
          "base_uri": "https://localhost:8080/"
        },
        "id": "De8vXal_ob9R",
        "outputId": "9264a914-9aa1-4f37-f320-aec3146e0246"
      },
      "outputs": [
        {
          "output_type": "stream",
          "name": "stdout",
          "text": [
            "Epoch 1/10\n",
            "35/35 [==============================] - 28s 414ms/step - loss: 0.7029 - accuracy: 0.5714 - precision: 0.5778 - recall: 0.5304\n",
            "Epoch 2/10\n",
            "35/35 [==============================] - 13s 367ms/step - loss: 0.5577 - accuracy: 0.7580 - precision: 0.7496 - recall: 0.7750\n",
            "Epoch 3/10\n",
            "35/35 [==============================] - 12s 349ms/step - loss: 0.4788 - accuracy: 0.8384 - precision: 0.8250 - recall: 0.8589\n",
            "Epoch 4/10\n",
            "35/35 [==============================] - 12s 339ms/step - loss: 0.4183 - accuracy: 0.8696 - precision: 0.8670 - recall: 0.8732\n",
            "Epoch 5/10\n",
            "35/35 [==============================] - 12s 334ms/step - loss: 0.3838 - accuracy: 0.8732 - precision: 0.8667 - recall: 0.8821\n",
            "Epoch 6/10\n",
            "35/35 [==============================] - 12s 335ms/step - loss: 0.3571 - accuracy: 0.8920 - precision: 0.8765 - recall: 0.9125\n",
            "Epoch 7/10\n",
            "35/35 [==============================] - 12s 340ms/step - loss: 0.3386 - accuracy: 0.8946 - precision: 0.8850 - recall: 0.9071\n",
            "Epoch 8/10\n",
            "35/35 [==============================] - 12s 344ms/step - loss: 0.3175 - accuracy: 0.9054 - precision: 0.8969 - recall: 0.9161\n",
            "Epoch 9/10\n",
            "35/35 [==============================] - 12s 346ms/step - loss: 0.3024 - accuracy: 0.9027 - precision: 0.8963 - recall: 0.9107\n",
            "Epoch 10/10\n",
            "35/35 [==============================] - 12s 347ms/step - loss: 0.2931 - accuracy: 0.9071 - precision: 0.9014 - recall: 0.9143\n"
          ]
        },
        {
          "output_type": "execute_result",
          "data": {
            "text/plain": [
              "<keras.src.callbacks.History at 0x7b0467d5c610>"
            ]
          },
          "metadata": {},
          "execution_count": 109
        }
      ],
      "source": [
        "# Training Model\n",
        "\n",
        "model.fit(X_train, y_train, epochs=10)"
      ]
    },
    {
      "cell_type": "code",
      "execution_count": 110,
      "metadata": {
        "colab": {
          "base_uri": "https://localhost:8080/"
        },
        "id": "MIybNJXDpDfc",
        "outputId": "96c4152b-85aa-4674-850c-ad43a7ddc016"
      },
      "outputs": [
        {
          "output_type": "stream",
          "name": "stdout",
          "text": [
            "12/12 [==============================] - 5s 327ms/step - loss: 0.2972 - accuracy: 0.9064 - precision: 0.8958 - recall: 0.9198\n"
          ]
        },
        {
          "output_type": "execute_result",
          "data": {
            "text/plain": [
              "[0.29716169834136963,\n",
              " 0.9064171314239502,\n",
              " 0.8958333134651184,\n",
              " 0.9197860956192017]"
            ]
          },
          "metadata": {},
          "execution_count": 110
        }
      ],
      "source": [
        "model.evaluate(X_test, y_test)"
      ]
    },
    {
      "cell_type": "code",
      "execution_count": 111,
      "metadata": {
        "colab": {
          "base_uri": "https://localhost:8080/"
        },
        "id": "-5mdbK-Pp4NE",
        "outputId": "9256a6e2-1ef4-4f55-d51e-3aebe20a28e3"
      },
      "outputs": [
        {
          "output_type": "stream",
          "name": "stdout",
          "text": [
            "12/12 [==============================] - 4s 327ms/step\n"
          ]
        }
      ],
      "source": [
        "# Testing the model\n",
        "\n",
        "y_predicted = model.predict(X_test)\n",
        "y_predicted = y_predicted.flatten()"
      ]
    },
    {
      "cell_type": "code",
      "execution_count": 112,
      "metadata": {
        "colab": {
          "base_uri": "https://localhost:8080/"
        },
        "id": "tK5qXAokqM-t",
        "outputId": "47c16410-16ea-4ff3-d606-16407cb14f00"
      },
      "outputs": [
        {
          "output_type": "execute_result",
          "data": {
            "text/plain": [
              "array([1, 0, 1, 1, 1, 0, 1, 0, 1, 0, 0, 0, 0, 1, 1, 1, 0, 0, 1, 1, 0, 1,\n",
              "       1, 1, 0, 0, 1, 1, 1, 1, 1, 1, 0, 0, 1, 0, 0, 0, 0, 1, 0, 1, 0, 1,\n",
              "       1, 0, 0, 0, 0, 0, 1, 0, 1, 0, 0, 1, 0, 0, 1, 1, 1, 1, 0, 1, 1, 0,\n",
              "       1, 0, 0, 1, 0, 0, 1, 1, 0, 1, 1, 0, 1, 0, 0, 1, 1, 1, 1, 1, 0, 1,\n",
              "       0, 0, 0, 1, 0, 0, 0, 0, 0, 0, 0, 1, 1, 0, 1, 0, 1, 0, 1, 0, 1, 0,\n",
              "       1, 0, 1, 1, 0, 1, 1, 0, 1, 1, 0, 0, 1, 0, 0, 1, 0, 1, 1, 1, 1, 1,\n",
              "       1, 1, 0, 0, 0, 0, 1, 1, 1, 0, 1, 1, 1, 0, 0, 1, 0, 0, 0, 0, 0, 1,\n",
              "       0, 1, 0, 0, 1, 0, 0, 1, 1, 1, 0, 0, 0, 1, 1, 1, 0, 0, 0, 0, 0, 1,\n",
              "       0, 0, 0, 1, 1, 0, 1, 0, 1, 1, 1, 1, 1, 1, 0, 1, 1, 1, 0, 1, 1, 0,\n",
              "       0, 0, 1, 1, 1, 0, 1, 0, 0, 0, 1, 1, 1, 1, 1, 1, 0, 0, 1, 1, 0, 1,\n",
              "       0, 0, 0, 1, 1, 0, 0, 1, 0, 0, 0, 0, 1, 0, 0, 1, 0, 1, 0, 1, 1, 0,\n",
              "       1, 1, 0, 0, 1, 1, 1, 0, 1, 1, 0, 1, 1, 0, 0, 1, 0, 0, 1, 1, 1, 1,\n",
              "       0, 1, 0, 0, 0, 1, 1, 0, 1, 0, 1, 0, 1, 0, 0, 1, 1, 1, 1, 1, 1, 0,\n",
              "       0, 1, 1, 1, 1, 0, 1, 0, 1, 0, 0, 1, 1, 0, 0, 0, 0, 0, 1, 0, 1, 1,\n",
              "       0, 1, 1, 1, 1, 1, 1, 1, 1, 0, 1, 0, 0, 0, 0, 0, 1, 0, 1, 0, 0, 0,\n",
              "       0, 1, 0, 0, 0, 1, 1, 1, 1, 0, 0, 1, 0, 1, 1, 1, 1, 1, 1, 0, 1, 1,\n",
              "       0, 0, 0, 1, 1, 1, 0, 1, 0, 0, 0, 0, 0, 0, 1, 0, 0, 1, 0, 0, 1, 1])"
            ]
          },
          "metadata": {},
          "execution_count": 112
        }
      ],
      "source": [
        "y_predicted = np.where(y_predicted > 0.5, 1, 0)\n",
        "y_predicted"
      ]
    },
    {
      "cell_type": "code",
      "execution_count": 113,
      "metadata": {
        "colab": {
          "base_uri": "https://localhost:8080/"
        },
        "id": "cAazjZLJqa5e",
        "outputId": "b52a61dc-cf43-409a-b1ec-665dbda371e2"
      },
      "outputs": [
        {
          "output_type": "execute_result",
          "data": {
            "text/plain": [
              "array([[167,  20],\n",
              "       [ 15, 172]])"
            ]
          },
          "metadata": {},
          "execution_count": 113
        }
      ],
      "source": [
        "from sklearn.metrics import confusion_matrix, classification_report\n",
        "cm = confusion_matrix(y_test, y_predicted)\n",
        "cm"
      ]
    },
    {
      "cell_type": "code",
      "execution_count": 114,
      "metadata": {
        "colab": {
          "base_uri": "https://localhost:8080/",
          "height": 467
        },
        "id": "RorzApMUqn8l",
        "outputId": "1923bafe-bf4b-482e-8d3b-0a3d73a017b0"
      },
      "outputs": [
        {
          "output_type": "execute_result",
          "data": {
            "text/plain": [
              "Text(50.722222222222214, 0.5, 'Truth')"
            ]
          },
          "metadata": {},
          "execution_count": 114
        },
        {
          "output_type": "display_data",
          "data": {
            "text/plain": [
              "<Figure size 640x480 with 2 Axes>"
            ],
            "image/png": "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\n"
          },
          "metadata": {}
        }
      ],
      "source": [
        "# Heatmap\n",
        "\n",
        "import matplotlib.pyplot as plt\n",
        "import seaborn as sns\n",
        "sns.heatmap(cm, annot=True, fmt='d')\n",
        "plt.xlabel('Predicted')\n",
        "plt.ylabel('Truth')"
      ]
    },
    {
      "cell_type": "code",
      "execution_count": 115,
      "metadata": {
        "colab": {
          "base_uri": "https://localhost:8080/"
        },
        "id": "Dg4DXL3eqtEK",
        "outputId": "574fff2e-169e-4182-f8f3-64496a519552"
      },
      "outputs": [
        {
          "output_type": "stream",
          "name": "stdout",
          "text": [
            "              precision    recall  f1-score   support\n",
            "\n",
            "           0       0.92      0.89      0.91       187\n",
            "           1       0.90      0.92      0.91       187\n",
            "\n",
            "    accuracy                           0.91       374\n",
            "   macro avg       0.91      0.91      0.91       374\n",
            "weighted avg       0.91      0.91      0.91       374\n",
            "\n"
          ]
        }
      ],
      "source": [
        "# Classification Report\n",
        "\n",
        "print(classification_report(y_test, y_predicted))"
      ]
    },
    {
      "cell_type": "code",
      "execution_count": 116,
      "metadata": {
        "colab": {
          "base_uri": "https://localhost:8080/"
        },
        "id": "amkZnlvKrHQB",
        "outputId": "2d467c05-2d04-4113-db77-7824e185cb43"
      },
      "outputs": [
        {
          "output_type": "stream",
          "name": "stdout",
          "text": [
            "1/1 [==============================] - 1s 779ms/step\n"
          ]
        },
        {
          "output_type": "execute_result",
          "data": {
            "text/plain": [
              "array([[0.8145215 ],\n",
              "       [0.75073385],\n",
              "       [0.73252654],\n",
              "       [0.1858797 ],\n",
              "       [0.11684972]], dtype=float32)"
            ]
          },
          "metadata": {},
          "execution_count": 116
        }
      ],
      "source": [
        "# Testing on Random input\n",
        "\n",
        "reviews = [\n",
        "    'You are awarded a SiPix Digital Camera! call 09061221061 from landline. Delivery within 28days. T Cs Box177. M221BP. 2yr warranty. 150ppm. 16 . p pÂ£3.99',\n",
        "    'it to 80488. Your 500 free text messages are valid until 31 December 2005.',\n",
        "    'Reply to win Â£100 weekly! Where will the 2006 FIFA World Cup be held? Send STOP to 87239 to end service',\n",
        "    'Hey Sam, Are you coming for a cricket game tomorrow',\n",
        "    \"Why don't you wait 'til at least wednesday to see if you get your .\"]\n",
        "\n",
        "model.predict(reviews)"
      ]
    },
    {
      "cell_type": "code",
      "source": [
        "### 위의 예제에서 처음 세 개의 메일은 스팸이고, 다른 두개는 스팸이 아니라고 결론"
      ],
      "metadata": {
        "id": "Hvrtukcv57DL"
      },
      "execution_count": 117,
      "outputs": []
    }
  ],
  "metadata": {
    "accelerator": "GPU",
    "colab": {
      "gpuType": "T4",
      "provenance": [],
      "authorship_tag": "ABX9TyPOxY4FAqu9uXTIXBy/j80U",
      "include_colab_link": true
    },
    "kernelspec": {
      "display_name": "Python 3",
      "name": "python3"
    },
    "language_info": {
      "name": "python"
    }
  },
  "nbformat": 4,
  "nbformat_minor": 0
}
